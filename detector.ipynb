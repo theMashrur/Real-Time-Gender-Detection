{
 "cells": [
  {
   "cell_type": "code",
   "execution_count": 2,
   "source": [
    "import numpy as np\r\n",
    "import tensorflow as tf\r\n",
    "from tensorflow import keras\r\n",
    "import cv2"
   ],
   "outputs": [],
   "metadata": {}
  },
  {
   "cell_type": "code",
   "execution_count": 4,
   "source": [
    "blue = (255, 0, 0)\r\n",
    "red = (0, 0, 255)\r\n",
    "\r\n",
    "#opencv variable to help detect faces, which we can then passed to model\r\n",
    "face_detector = cv2.CascadeClassifier(cv2.data.haarcascades + 'haarcascade_frontalface_default.xml')"
   ],
   "outputs": [],
   "metadata": {}
  },
  {
   "cell_type": "code",
   "execution_count": 7,
   "source": [
    "#load model\r\n",
    "#by default we're loading in the model in the keras h5 format\r\n",
    "classifier = keras.models.load_model('./gender_classifier.h5')\r\n",
    "\r\n",
    "classes = ['male', 'female']"
   ],
   "outputs": [],
   "metadata": {}
  },
  {
   "cell_type": "code",
   "execution_count": 8,
   "source": [
    "def resize_image(image, x, y, w, h):\r\n",
    "    '''\r\n",
    "    Uses co-ordinates passed as arguments,\r\n",
    "    to crop and resize images to tensors of size (1, 100, 100, 3)\r\n",
    "    '''\r\n",
    "    if x - 0.5*w > 0:\r\n",
    "        start_x = int(x - 0.5*w)\r\n",
    "    else:\r\n",
    "        start_x = x\r\n",
    "    if y - 0.5*h > 0:\r\n",
    "        start_y = int(y - 0.5*h)\r\n",
    "    else:\r\n",
    "        start_y = y\r\n",
    "\r\n",
    "    end_x = int(x + (1 + 0.5)*w)\r\n",
    "    end_y = int(y + (1 + 0.5)*h)\r\n",
    "\r\n",
    "    face_image = image[start_y:end_y, start_x:end_x]\r\n",
    "    face_image = tf.image.resize(face_image, [100, 100])\r\n",
    "    face_image = np.expand_dims(face_image, axis=0)\r\n",
    "    return face_image"
   ],
   "outputs": [],
   "metadata": {}
  }
 ],
 "metadata": {
  "orig_nbformat": 4,
  "language_info": {
   "name": "python",
   "version": "3.7.4",
   "mimetype": "text/x-python",
   "codemirror_mode": {
    "name": "ipython",
    "version": 3
   },
   "pygments_lexer": "ipython3",
   "nbconvert_exporter": "python",
   "file_extension": ".py"
  },
  "kernelspec": {
   "name": "python3",
   "display_name": "Python 3.7.4 64-bit ('base': conda)"
  },
  "interpreter": {
   "hash": "b3ba2566441a7c06988d0923437866b63cedc61552a5af99d1f4fb67d367b25f"
  }
 },
 "nbformat": 4,
 "nbformat_minor": 2
}