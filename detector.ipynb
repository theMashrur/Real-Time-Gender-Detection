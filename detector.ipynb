{
 "cells": [
  {
   "cell_type": "code",
   "execution_count": 1,
   "metadata": {},
   "outputs": [],
   "source": [
    "import numpy as np\n",
    "import tensorflow as tf\n",
    "from tensorflow import keras\n",
    "import cv2\n",
    "\n",
    "gpu = tf.config.experimental.list_physical_devices('GPU')\n",
    "tf.config.experimental.set_memory_growth(gpu[0], True)"
   ]
  },
  {
   "cell_type": "code",
   "execution_count": 2,
   "metadata": {},
   "outputs": [],
   "source": [
    "blue = (255, 0, 0)\n",
    "red = (0, 0, 255)\n",
    "\n",
    "#opencv variable to help detect faces, which we can then passed to model\n",
    "face_detector = cv2.CascadeClassifier(cv2.data.haarcascades + 'haarcascade_frontalface_default.xml')"
   ]
  },
  {
   "cell_type": "code",
   "execution_count": 3,
   "metadata": {},
   "outputs": [],
   "source": [
    "#load model\n",
    "#by default we're loading in the model in the keras h5 format\n",
    "classifier = keras.models.load_model('./gender_classifier.h5')\n",
    "\n",
    "classes_dict = {0 : \"man\", 1 : \"woman\"}"
   ]
  },
  {
   "cell_type": "code",
   "execution_count": 4,
   "metadata": {},
   "outputs": [],
   "source": [
    "def resize_image(image, x, y, w, h):\n",
    "    '''\n",
    "    Uses co-ordinates passed as arguments,\n",
    "    to crop and resize images to tensors of size (1, 100, 100, 3)\n",
    "    '''\n",
    "    if x - 0.5*w > 0:\n",
    "        start_x = int(x - 0.5*w)\n",
    "    else:\n",
    "        start_x = x\n",
    "    if y - 0.5*h > 0:\n",
    "        start_y = int(y - 0.5*h)\n",
    "    else:\n",
    "        start_y = y\n",
    "\n",
    "    end_x = int(x + (1 + 0.5)*w)\n",
    "    end_y = int(y + (1 + 0.5)*h)\n",
    "\n",
    "    face = image[start_y:end_y, start_x:end_x]\n",
    "    face = tf.image.resize(face, [100, 100])\n",
    "    face = np.expand_dims(face, axis=0)\n",
    "    return face"
   ]
  },
  {
   "cell_type": "code",
   "execution_count": 8,
   "metadata": {},
   "outputs": [
    {
     "name": "stdout",
     "output_type": "stream",
     "text": [
      "Camera access granted\n",
      "To quit, press Ctrl+C\n",
      "Finished streaming\n"
     ]
    }
   ],
   "source": [
    "video = cv2.VideoCapture(0)\n",
    "\n",
    "if not video.isOpened():\n",
    "    print(\"Cannot open camera\")\n",
    "else:\n",
    "    print(\"Camera access granted\")\n",
    "\n",
    "print(\"To quit, press Ctrl+C\")\n",
    "while True:\n",
    "    try:\n",
    "        ret, frame = video.read()\n",
    "        if not ret:\n",
    "            print(\"Can't get frame: Exiting\")\n",
    "            break\n",
    "\n",
    "        grey = cv2.cvtColor(frame, cv2.COLOR_BGR2GRAY)\n",
    "\n",
    "        faces = face_detector.detectMultiScale(\n",
    "            grey,\n",
    "            scaleFactor=1.3,\n",
    "            minNeighbors=5,\n",
    "            minSize=(100, 100),\n",
    "            flags=cv2.CASCADE_SCALE_IMAGE\n",
    "        )\n",
    "\n",
    "        for (x, y, w, h) in faces:\n",
    "            image = resize_image(frame, x, y, w, h)\n",
    "            arr = classifier.predict(image)\n",
    "            prediction = classes_dict[np.argmax(arr)]\n",
    "            confidence = round(np.max(arr)*100)\n",
    "            if prediction == \"man\":\n",
    "                colour = blue\n",
    "            else:\n",
    "                colour = red\n",
    "            \n",
    "            cv2.rectangle(frame, (x, y), (x+w, y+h), colour, 2)\n",
    "            cv2.putText(frame, \"{0}: {1}%\".format(prediction, confidence), (x, y), cv2.FONT_HERSHEY_PLAIN, 2, colour, 2)\n",
    "\n",
    "\n",
    "        cv2.waitKey(1)\n",
    "        cv2.imshow(\"Gender Detector\", frame)\n",
    "    except KeyboardInterrupt:\n",
    "        break\n",
    "\n",
    "video.release()\n",
    "cv2.destroyAllWindows()\n",
    "print(\"Finished streaming\")"
   ]
  },
  {
   "cell_type": "code",
   "execution_count": null,
   "metadata": {},
   "outputs": [],
   "source": []
  }
 ],
 "metadata": {
  "interpreter": {
   "hash": "b3ba2566441a7c06988d0923437866b63cedc61552a5af99d1f4fb67d367b25f"
  },
  "kernelspec": {
   "display_name": "Python 3.7.4 64-bit ('base': conda)",
   "name": "python3"
  },
  "language_info": {
   "codemirror_mode": {
    "name": "ipython",
    "version": 3
   },
   "file_extension": ".py",
   "mimetype": "text/x-python",
   "name": "python",
   "nbconvert_exporter": "python",
   "pygments_lexer": "ipython3",
   "version": "3.7.4"
  },
  "orig_nbformat": 4
 },
 "nbformat": 4,
 "nbformat_minor": 2
}
