{
 "cells": [
  {
   "cell_type": "code",
   "execution_count": 1,
   "source": [
    "import numpy as np\r\n",
    "import tensorflow as tf\r\n",
    "from tensorflow import keras\r\n",
    "import cv2\r\n",
    "\r\n",
    "gpu = tf.config.experimental.list_physical_devices('GPU')\r\n",
    "tf.config.experimental.set_memory_growth(gpu[0], True)"
   ],
   "outputs": [],
   "metadata": {}
  },
  {
   "cell_type": "code",
   "execution_count": 2,
   "source": [
    "blue = (255, 0, 0)\r\n",
    "red = (0, 0, 255)\r\n",
    "\r\n",
    "#opencv variable to help detect faces, which we can then passed to model\r\n",
    "face_detector = cv2.CascadeClassifier(cv2.data.haarcascades + 'haarcascade_frontalface_default.xml')"
   ],
   "outputs": [],
   "metadata": {}
  },
  {
   "cell_type": "code",
   "execution_count": 3,
   "source": [
    "#load model\r\n",
    "#by default we're loading in the model in the keras h5 format\r\n",
    "classifier = keras.models.load_model('./gender_classifier.h5')\r\n",
    "\r\n",
    "classes_dict = {0 : \"man\", 1 : \"woman\"}"
   ],
   "outputs": [],
   "metadata": {}
  },
  {
   "cell_type": "code",
   "execution_count": 4,
   "source": [
    "def resize_image(image, x, y, w, h):\r\n",
    "    '''\r\n",
    "    Uses co-ordinates passed as arguments,\r\n",
    "    to crop and resize images to tensors of size (1, 100, 100, 3)\r\n",
    "    '''\r\n",
    "    if x - 0.5*w > 0:\r\n",
    "        start_x = int(x - 0.5*w)\r\n",
    "    else:\r\n",
    "        start_x = x\r\n",
    "    if y - 0.5*h > 0:\r\n",
    "        start_y = int(y - 0.5*h)\r\n",
    "    else:\r\n",
    "        start_y = y\r\n",
    "\r\n",
    "    end_x = int(x + (1 + 0.5)*w)\r\n",
    "    end_y = int(y + (1 + 0.5)*h)\r\n",
    "\r\n",
    "    face = image[start_y:end_y, start_x:end_x]\r\n",
    "    face = tf.image.resize(face, [100, 100])\r\n",
    "    face = np.expand_dims(face, axis=0)\r\n",
    "    return face"
   ],
   "outputs": [],
   "metadata": {}
  },
  {
   "cell_type": "code",
   "execution_count": 7,
   "source": [
    "video = cv2.VideoCapture(0)\r\n",
    "\r\n",
    "if not video.isOpened():\r\n",
    "    print(\"Cannot open camera\")\r\n",
    "else:\r\n",
    "    print(\"Camera access granted\")\r\n",
    "\r\n",
    "print(\"To quit, press Ctrl+C\")\r\n",
    "while True:\r\n",
    "    try:\r\n",
    "        ret, frame = video.read()\r\n",
    "        if not ret:\r\n",
    "            print(\"Can't get frame: Exiting\")\r\n",
    "            break\r\n",
    "\r\n",
    "        grey = cv2.cvtColor(frame, cv2.COLOR_BGR2GRAY)\r\n",
    "\r\n",
    "        faces = face_detector.detectMultiScale(\r\n",
    "            grey,\r\n",
    "            scaleFactor=1.3,\r\n",
    "            minNeighbors=5,\r\n",
    "            minSize=(100, 100),\r\n",
    "            flags=cv2.CASCADE_SCALE_IMAGE\r\n",
    "        )\r\n",
    "\r\n",
    "        for (x, y, w, h) in faces:\r\n",
    "            image = resize_image(frame, x, y, w, h)\r\n",
    "            arr = classifier.predict(image)\r\n",
    "            prediction = classes_dict[np.argmax(arr)]\r\n",
    "\r\n",
    "\r\n",
    "        cv2.waitKey(1)\r\n",
    "        cv2.imshow(\"Gender Detector\", frame)\r\n",
    "    except KeyboardInterrupt:\r\n",
    "        break\r\n",
    "\r\n",
    "video.release()\r\n",
    "cv2.destroyAllWindows()\r\n",
    "print(\"Finished streaming\")"
   ],
   "outputs": [
    {
     "output_type": "stream",
     "name": "stdout",
     "text": [
      "Camera access granted\n",
      "To quit, press Ctrl+C\n",
      "Finished streaming\n"
     ]
    }
   ],
   "metadata": {}
  },
  {
   "cell_type": "code",
   "execution_count": null,
   "source": [],
   "outputs": [],
   "metadata": {}
  }
 ],
 "metadata": {
  "orig_nbformat": 4,
  "language_info": {
   "name": "python",
   "version": "3.7.4",
   "mimetype": "text/x-python",
   "codemirror_mode": {
    "name": "ipython",
    "version": 3
   },
   "pygments_lexer": "ipython3",
   "nbconvert_exporter": "python",
   "file_extension": ".py"
  },
  "kernelspec": {
   "name": "python3",
   "display_name": "Python 3.7.4 64-bit ('base': conda)"
  },
  "interpreter": {
   "hash": "b3ba2566441a7c06988d0923437866b63cedc61552a5af99d1f4fb67d367b25f"
  }
 },
 "nbformat": 4,
 "nbformat_minor": 2
}