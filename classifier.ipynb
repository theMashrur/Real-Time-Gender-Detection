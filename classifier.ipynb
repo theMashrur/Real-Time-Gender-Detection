{
 "cells": [
  {
   "cell_type": "code",
   "execution_count": 1,
   "source": [
    "import tensorflow as tf\r\n",
    "gpu = tf.config.experimental.list_physical_devices('GPU')\r\n",
    "tf.config.experimental.set_memory_growth(gpu[0], True)"
   ],
   "outputs": [],
   "metadata": {}
  },
  {
   "cell_type": "code",
   "execution_count": 2,
   "source": [
    "import tensorflow.keras as keras\r\n",
    "from keras.preprocessing.image import ImageDataGenerator\r\n",
    "\r\n",
    "datagen = ImageDataGenerator(\r\n",
    "    samplewise_center=True,\r\n",
    "    width_shift_range=0.1,\r\n",
    "    height_shift_range=0.1,\r\n",
    "    zoom_range=0.1,\r\n",
    "    validation_split=0.2\r\n",
    ")"
   ],
   "outputs": [],
   "metadata": {}
  },
  {
   "cell_type": "code",
   "execution_count": 3,
   "source": [
    "train = datagen.flow_from_directory(\r\n",
    "    'Datasets/faces',\r\n",
    "    target_size=(100, 100),\r\n",
    "    color_mode='rgb',\r\n",
    "    class_mode='binary',\r\n",
    "    batch_size=32,\r\n",
    "    subset='training'\r\n",
    "    )\r\n",
    "\r\n",
    "valid = datagen.flow_from_directory(\r\n",
    "    'Datasets/faces',\r\n",
    "    target_size=(100, 100),\r\n",
    "    color_mode = 'rgb',\r\n",
    "    class_mode='binary',\r\n",
    "    batch_size=32,\r\n",
    "    subset = 'validation'\r\n",
    ")"
   ],
   "outputs": [
    {
     "output_type": "stream",
     "name": "stdout",
     "text": [
      "Found 21735 images belonging to 2 classes.\n",
      "Found 5432 images belonging to 2 classes.\n"
     ]
    }
   ],
   "metadata": {}
  },
  {
   "cell_type": "code",
   "execution_count": 4,
   "source": [
    "from tensorflow.keras.models import Sequential\r\n",
    "from tensorflow.keras.layers import (\r\n",
    "    Dense,\r\n",
    "    Conv2D,\r\n",
    "    MaxPool2D,\r\n",
    "    Flatten,\r\n",
    "    Dropout,\r\n",
    "    BatchNormalization\r\n",
    ")\r\n",
    "\r\n",
    "model = Sequential()\r\n",
    "model.add(Conv2D(75, (3, 3), strides=1, padding=\"same\", activation=\"relu\", input_shape=(100, 100, 3)))\r\n",
    "model.add(BatchNormalization())\r\n",
    "model.add(MaxPool2D((2, 2), strides=2, padding=\"same\"))\r\n",
    "model.add(Conv2D(50, (3, 3), strides=1, padding=\"same\", activation='relu'))\r\n",
    "model.add(Dropout(0.2))\r\n",
    "model.add(BatchNormalization())\r\n",
    "model.add(MaxPool2D((2, 2,), strides=2, padding=\"same\"))\r\n",
    "model.add(Conv2D(25, (3, 3), strides=1, padding=\"same\", activation='relu'))\r\n",
    "model.add(BatchNormalization())\r\n",
    "model.add(MaxPool2D((2, 2), strides=2, padding=\"same\"))\r\n",
    "model.add(Flatten())\r\n",
    "model.add(Dense(units=512, activation='relu'))\r\n",
    "model.add(Dropout(0.3))\r\n",
    "model.add(Dense(units=1, activation='sigmoid'))"
   ],
   "outputs": [],
   "metadata": {}
  },
  {
   "cell_type": "code",
   "execution_count": 5,
   "source": [
    "model.compile(loss=\"binary_crossentropy\", optimizer=keras.optimizers.Adam(learning_rate=1e-5), metrics=['accuracy'])"
   ],
   "outputs": [],
   "metadata": {}
  },
  {
   "cell_type": "code",
   "execution_count": 6,
   "source": [
    "history = model.fit(train, epochs=20, validation_data=valid, verbose=1)"
   ],
   "outputs": [
    {
     "output_type": "stream",
     "name": "stdout",
     "text": [
      "Epoch 1/20\n",
      "680/680 [==============================] - 73s 102ms/step - loss: 0.6222 - accuracy: 0.7147 - val_loss: 0.4602 - val_accuracy: 0.7806\n",
      "Epoch 2/20\n",
      "680/680 [==============================] - 69s 102ms/step - loss: 0.5152 - accuracy: 0.7630 - val_loss: 0.4296 - val_accuracy: 0.8008\n",
      "Epoch 3/20\n",
      "680/680 [==============================] - 69s 101ms/step - loss: 0.4717 - accuracy: 0.7812 - val_loss: 0.4086 - val_accuracy: 0.8192\n",
      "Epoch 4/20\n",
      "680/680 [==============================] - 68s 100ms/step - loss: 0.4473 - accuracy: 0.7957 - val_loss: 0.3954 - val_accuracy: 0.8229\n",
      "Epoch 5/20\n",
      "680/680 [==============================] - 68s 100ms/step - loss: 0.4297 - accuracy: 0.8038 - val_loss: 0.3866 - val_accuracy: 0.8264\n",
      "Epoch 6/20\n",
      "680/680 [==============================] - 68s 100ms/step - loss: 0.4069 - accuracy: 0.8168 - val_loss: 0.3831 - val_accuracy: 0.8258\n",
      "Epoch 7/20\n",
      "680/680 [==============================] - 69s 102ms/step - loss: 0.3949 - accuracy: 0.8196 - val_loss: 0.3703 - val_accuracy: 0.8374\n",
      "Epoch 8/20\n",
      "680/680 [==============================] - 67s 99ms/step - loss: 0.3807 - accuracy: 0.8281 - val_loss: 0.3718 - val_accuracy: 0.8362\n",
      "Epoch 9/20\n",
      "680/680 [==============================] - 68s 100ms/step - loss: 0.3724 - accuracy: 0.8330 - val_loss: 0.3596 - val_accuracy: 0.8441\n",
      "Epoch 10/20\n",
      "680/680 [==============================] - 68s 100ms/step - loss: 0.3581 - accuracy: 0.8406 - val_loss: 0.3600 - val_accuracy: 0.8400\n",
      "Epoch 11/20\n",
      "680/680 [==============================] - 72s 106ms/step - loss: 0.3514 - accuracy: 0.8445 - val_loss: 0.3568 - val_accuracy: 0.8437\n",
      "Epoch 12/20\n",
      "680/680 [==============================] - 68s 100ms/step - loss: 0.3385 - accuracy: 0.8497 - val_loss: 0.3317 - val_accuracy: 0.8610\n",
      "Epoch 13/20\n",
      "680/680 [==============================] - 70s 103ms/step - loss: 0.3367 - accuracy: 0.8507 - val_loss: 0.3377 - val_accuracy: 0.8533\n",
      "Epoch 14/20\n",
      "680/680 [==============================] - 68s 100ms/step - loss: 0.3258 - accuracy: 0.8564 - val_loss: 0.3317 - val_accuracy: 0.8555\n",
      "Epoch 15/20\n",
      "680/680 [==============================] - 69s 101ms/step - loss: 0.3177 - accuracy: 0.8619 - val_loss: 0.3271 - val_accuracy: 0.8582\n",
      "Epoch 16/20\n",
      "680/680 [==============================] - 68s 100ms/step - loss: 0.3129 - accuracy: 0.8639 - val_loss: 0.3176 - val_accuracy: 0.8643\n",
      "Epoch 17/20\n",
      "680/680 [==============================] - 71s 104ms/step - loss: 0.3047 - accuracy: 0.8673 - val_loss: 0.3232 - val_accuracy: 0.8608\n",
      "Epoch 18/20\n",
      "680/680 [==============================] - 69s 101ms/step - loss: 0.2992 - accuracy: 0.8688 - val_loss: 0.3218 - val_accuracy: 0.8605\n",
      "Epoch 19/20\n",
      "680/680 [==============================] - 68s 100ms/step - loss: 0.2949 - accuracy: 0.8721 - val_loss: 0.3147 - val_accuracy: 0.8627\n",
      "Epoch 20/20\n",
      "680/680 [==============================] - 68s 100ms/step - loss: 0.2922 - accuracy: 0.8758 - val_loss: 0.3093 - val_accuracy: 0.8698\n"
     ]
    }
   ],
   "metadata": {}
  },
  {
   "cell_type": "code",
   "execution_count": null,
   "source": [],
   "outputs": [],
   "metadata": {}
  }
 ],
 "metadata": {
  "orig_nbformat": 4,
  "language_info": {
   "name": "python",
   "version": "3.7.4",
   "mimetype": "text/x-python",
   "codemirror_mode": {
    "name": "ipython",
    "version": 3
   },
   "pygments_lexer": "ipython3",
   "nbconvert_exporter": "python",
   "file_extension": ".py"
  },
  "kernelspec": {
   "name": "python3",
   "display_name": "Python 3.7.4 64-bit ('base': conda)"
  },
  "interpreter": {
   "hash": "b3ba2566441a7c06988d0923437866b63cedc61552a5af99d1f4fb67d367b25f"
  }
 },
 "nbformat": 4,
 "nbformat_minor": 2
}