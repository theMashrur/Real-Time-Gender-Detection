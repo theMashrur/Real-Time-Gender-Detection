{
 "cells": [
  {
   "cell_type": "code",
   "execution_count": null,
   "source": [
    "import tensorflow as tf\r\n",
    "gpu = tf.config.experimental.list_physical_devices('GPU')\r\n",
    "tf.config.experimental.set_memory_growth(gpu[0], True)"
   ],
   "outputs": [],
   "metadata": {}
  },
  {
   "cell_type": "code",
   "execution_count": null,
   "source": [
    "import tensorflow.keras as keras\r\n",
    "from keras.preprocessing.image import ImageDataGenerator\r\n",
    "\r\n",
    "datagen = ImageDataGenerator(\r\n",
    "    samplewise_center=True,\r\n",
    "    width_shift_range=0.1,\r\n",
    "    height_shift_range=0.1,\r\n",
    "    zoom_range=0.1,\r\n",
    "    validation_split=0.2\r\n",
    ")"
   ],
   "outputs": [],
   "metadata": {}
  },
  {
   "cell_type": "code",
   "execution_count": null,
   "source": [
    "train = datagen.flow_from_directory(\r\n",
    "    'Datasets/faces',\r\n",
    "    target_size=(100, 100),\r\n",
    "    color_mode='rgb',\r\n",
    "    class_mode='binary',\r\n",
    "    batch_size=32,\r\n",
    "    subset='training'\r\n",
    "    )\r\n",
    "\r\n",
    "valid = datagen.flow_from_directory(\r\n",
    "    'Datasets/faces',\r\n",
    "    target_size=(100, 100),\r\n",
    "    color_mode = 'rgb',\r\n",
    "    class_mode='categorical',\r\n",
    "    batch_size=32,\r\n",
    "    subset = 'validation'\r\n",
    ")"
   ],
   "outputs": [],
   "metadata": {}
  },
  {
   "cell_type": "code",
   "execution_count": null,
   "source": [
    "from tensorflow.keras.models import Sequential\r\n",
    "from tensorflow.keras.layers import (\r\n",
    "    Dense,\r\n",
    "    Conv2D,\r\n",
    "    MaxPool2D,\r\n",
    "    Flatten,\r\n",
    "    Dropout,\r\n",
    "    BatchNormalization\r\n",
    ")\r\n",
    "\r\n",
    "model = Sequential()\r\n",
    "model.add(Conv2D(75, (3, 3), strides=1, padding=\"same\", activation=\"relu\", input_shape=(100, 100, 3)))\r\n",
    "model.add(BatchNormalization())\r\n",
    "model.add(MaxPool2D((2, 2), strides=2, padding=\"same\"))\r\n",
    "model.add(Conv2D(50, (3, 3), strides=1, padding=\"same\", activation='relu'))\r\n",
    "model.add(Dropout(0.2))\r\n",
    "model.add(BatchNormalization())\r\n",
    "model.add(MaxPool2D((2, 2,), strides=2, padding=\"same\"))\r\n",
    "model.add(Conv2D(25, (3, 3), strides=1, padding=\"same\", activation='relu'))\r\n",
    "model.add(BatchNormalization())\r\n",
    "model.add(MaxPool2D((2, 2), strides=2, padding=\"same\"))\r\n",
    "model.add(Flatten())\r\n",
    "model.add(Dense(units=512, activation='relu'))\r\n",
    "model.add(Dropout(0.3))\r\n",
    "model.add(Dense(units=1, activation='sigmoid'))"
   ],
   "outputs": [],
   "metadata": {}
  },
  {
   "cell_type": "code",
   "execution_count": null,
   "source": [
    "model.compile(loss=\"binary_crossentropy\", optimizer=\"adam\", metrics=keras.metrics.BinaryAccuracy)"
   ],
   "outputs": [],
   "metadata": {}
  },
  {
   "cell_type": "code",
   "execution_count": null,
   "source": [
    "history = model.fit(train, epochs=20, validation_data=valid, verbose=1)"
   ],
   "outputs": [],
   "metadata": {}
  },
  {
   "cell_type": "code",
   "execution_count": null,
   "source": [],
   "outputs": [],
   "metadata": {}
  }
 ],
 "metadata": {
  "orig_nbformat": 4,
  "language_info": {
   "name": "python",
   "version": "3.7.4",
   "mimetype": "text/x-python",
   "codemirror_mode": {
    "name": "ipython",
    "version": 3
   },
   "pygments_lexer": "ipython3",
   "nbconvert_exporter": "python",
   "file_extension": ".py"
  },
  "kernelspec": {
   "name": "python3",
   "display_name": "Python 3.7.4 64-bit ('base': conda)"
  },
  "interpreter": {
   "hash": "b3ba2566441a7c06988d0923437866b63cedc61552a5af99d1f4fb67d367b25f"
  }
 },
 "nbformat": 4,
 "nbformat_minor": 2
}