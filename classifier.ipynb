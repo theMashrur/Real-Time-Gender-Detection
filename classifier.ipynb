{
 "cells": [
  {
   "cell_type": "code",
   "execution_count": 1,
   "source": [
    "import tensorflow as tf\r\n",
    "gpu = tf.config.experimental.list_physical_devices('GPU')\r\n",
    "tf.config.experimental.set_memory_growth(gpu[0], True)"
   ],
   "outputs": [],
   "metadata": {}
  },
  {
   "cell_type": "code",
   "execution_count": 2,
   "source": [
    "import tensorflow.keras as keras\r\n",
    "from keras.preprocessing.image import ImageDataGenerator\r\n",
    "\r\n",
    "datagen = ImageDataGenerator(\r\n",
    "    samplewise_center=True,\r\n",
    "    width_shift_range=0.1,\r\n",
    "    height_shift_range=0.1,\r\n",
    "    zoom_range=0.1,\r\n",
    "    validation_split=0.2\r\n",
    ")"
   ],
   "outputs": [],
   "metadata": {}
  },
  {
   "cell_type": "code",
   "execution_count": 3,
   "source": [
    "train = datagen.flow_from_directory(\r\n",
    "    'Datasets/faces',\r\n",
    "    target_size=(100, 100),\r\n",
    "    color_mode='rgb',\r\n",
    "    class_mode='binary',\r\n",
    "    batch_size=32,\r\n",
    "    subset='training'\r\n",
    "    )\r\n",
    "\r\n",
    "valid = datagen.flow_from_directory(\r\n",
    "    'Datasets/faces',\r\n",
    "    target_size=(100, 100),\r\n",
    "    color_mode = 'rgb',\r\n",
    "    class_mode='binary',\r\n",
    "    batch_size=32,\r\n",
    "    subset = 'validation'\r\n",
    ")"
   ],
   "outputs": [
    {
     "output_type": "stream",
     "name": "stdout",
     "text": [
      "Found 21735 images belonging to 2 classes.\n",
      "Found 5432 images belonging to 2 classes.\n"
     ]
    }
   ],
   "metadata": {}
  },
  {
   "cell_type": "code",
   "execution_count": 4,
   "source": [
    "from tensorflow.keras.models import Sequential\r\n",
    "from tensorflow.keras.layers import (\r\n",
    "    Dense,\r\n",
    "    Conv2D,\r\n",
    "    MaxPool2D,\r\n",
    "    Flatten,\r\n",
    "    Dropout,\r\n",
    "    BatchNormalization\r\n",
    ")\r\n",
    "\r\n",
    "model = Sequential()\r\n",
    "model.add(Conv2D(75, (3, 3), strides=1, padding=\"same\", activation=\"relu\", input_shape=(100, 100, 3)))\r\n",
    "model.add(BatchNormalization())\r\n",
    "model.add(MaxPool2D((2, 2), strides=2, padding=\"same\"))\r\n",
    "model.add(Conv2D(50, (3, 3), strides=1, padding=\"same\", activation='relu'))\r\n",
    "model.add(Dropout(0.2))\r\n",
    "model.add(BatchNormalization())\r\n",
    "model.add(MaxPool2D((2, 2,), strides=2, padding=\"same\"))\r\n",
    "model.add(Conv2D(25, (3, 3), strides=1, padding=\"same\", activation='relu'))\r\n",
    "model.add(BatchNormalization())\r\n",
    "model.add(MaxPool2D((2, 2), strides=2, padding=\"same\"))\r\n",
    "model.add(Flatten())\r\n",
    "model.add(Dense(units=512, activation='relu'))\r\n",
    "model.add(Dropout(0.3))\r\n",
    "model.add(Dense(units=1, activation='sigmoid'))"
   ],
   "outputs": [],
   "metadata": {}
  },
  {
   "cell_type": "code",
   "execution_count": 5,
   "source": [
    "model.compile(loss=\"binary_crossentropy\", optimizer=keras.optimizers.Adam(learning_rate=1e-5), metrics=['accuracy'])"
   ],
   "outputs": [],
   "metadata": {}
  },
  {
   "cell_type": "code",
   "execution_count": 6,
   "source": [
    "history = model.fit(train, epochs=20, validation_data=valid, verbose=1)"
   ],
   "outputs": [
    {
     "output_type": "stream",
     "name": "stdout",
     "text": [
      "Epoch 1/20\n",
      "680/680 [==============================] - 91s 125ms/step - loss: 0.6325 - accuracy: 0.7082 - val_loss: 0.4853 - val_accuracy: 0.7647\n",
      "Epoch 2/20\n",
      "680/680 [==============================] - 72s 105ms/step - loss: 0.5250 - accuracy: 0.7602 - val_loss: 0.4446 - val_accuracy: 0.7933\n",
      "Epoch 3/20\n",
      "680/680 [==============================] - 74s 108ms/step - loss: 0.4793 - accuracy: 0.7792 - val_loss: 0.4308 - val_accuracy: 0.7975\n",
      "Epoch 4/20\n",
      "680/680 [==============================] - 71s 104ms/step - loss: 0.4535 - accuracy: 0.7914 - val_loss: 0.4161 - val_accuracy: 0.8067\n",
      "Epoch 5/20\n",
      "680/680 [==============================] - 71s 104ms/step - loss: 0.4273 - accuracy: 0.8045 - val_loss: 0.4014 - val_accuracy: 0.8179\n",
      "Epoch 6/20\n",
      "680/680 [==============================] - 71s 104ms/step - loss: 0.4147 - accuracy: 0.8127 - val_loss: 0.3968 - val_accuracy: 0.8246\n",
      "Epoch 7/20\n",
      "680/680 [==============================] - 69s 102ms/step - loss: 0.3967 - accuracy: 0.8183 - val_loss: 0.3828 - val_accuracy: 0.8325\n",
      "Epoch 8/20\n",
      "680/680 [==============================] - 69s 102ms/step - loss: 0.3855 - accuracy: 0.8245 - val_loss: 0.3780 - val_accuracy: 0.8380\n",
      "Epoch 9/20\n",
      "680/680 [==============================] - 72s 106ms/step - loss: 0.3795 - accuracy: 0.8289 - val_loss: 0.3732 - val_accuracy: 0.8384\n",
      "Epoch 10/20\n",
      "680/680 [==============================] - 71s 104ms/step - loss: 0.3653 - accuracy: 0.8380 - val_loss: 0.3591 - val_accuracy: 0.8465\n",
      "Epoch 11/20\n",
      "680/680 [==============================] - 71s 104ms/step - loss: 0.3515 - accuracy: 0.8458 - val_loss: 0.3606 - val_accuracy: 0.8457\n",
      "Epoch 12/20\n",
      "680/680 [==============================] - 71s 105ms/step - loss: 0.3506 - accuracy: 0.8452 - val_loss: 0.3576 - val_accuracy: 0.8470\n",
      "Epoch 13/20\n",
      "680/680 [==============================] - 71s 105ms/step - loss: 0.3427 - accuracy: 0.8495 - val_loss: 0.3504 - val_accuracy: 0.8507\n",
      "Epoch 14/20\n",
      "680/680 [==============================] - 71s 104ms/step - loss: 0.3331 - accuracy: 0.8530 - val_loss: 0.3422 - val_accuracy: 0.8555\n",
      "Epoch 15/20\n",
      "680/680 [==============================] - 72s 105ms/step - loss: 0.3287 - accuracy: 0.8531 - val_loss: 0.3398 - val_accuracy: 0.8568\n",
      "Epoch 16/20\n",
      "680/680 [==============================] - 73s 107ms/step - loss: 0.3223 - accuracy: 0.8579 - val_loss: 0.3417 - val_accuracy: 0.8540\n",
      "Epoch 17/20\n",
      "680/680 [==============================] - 73s 107ms/step - loss: 0.3159 - accuracy: 0.8621 - val_loss: 0.3464 - val_accuracy: 0.8540\n",
      "Epoch 18/20\n",
      "680/680 [==============================] - 70s 103ms/step - loss: 0.3085 - accuracy: 0.8656 - val_loss: 0.3418 - val_accuracy: 0.8555\n",
      "Epoch 19/20\n",
      "680/680 [==============================] - 70s 103ms/step - loss: 0.3013 - accuracy: 0.8697 - val_loss: 0.3266 - val_accuracy: 0.8638\n",
      "Epoch 20/20\n",
      "680/680 [==============================] - 72s 106ms/step - loss: 0.3013 - accuracy: 0.8719 - val_loss: 0.3253 - val_accuracy: 0.8673\n"
     ]
    }
   ],
   "metadata": {}
  },
  {
   "cell_type": "code",
   "execution_count": 7,
   "source": [
    "model.save(\"gender_classifier.h5\")"
   ],
   "outputs": [],
   "metadata": {}
  },
  {
   "cell_type": "code",
   "execution_count": 8,
   "source": [
    "import IPython\r\n",
    "\r\n",
    "app = IPython.Application.instance()\r\n",
    "app.kernel.do_shutdown(True)"
   ],
   "outputs": [
    {
     "output_type": "execute_result",
     "data": {
      "text/plain": [
       "{'status': 'ok', 'restart': True}"
      ]
     },
     "metadata": {},
     "execution_count": 8
    }
   ],
   "metadata": {}
  },
  {
   "cell_type": "code",
   "execution_count": null,
   "source": [],
   "outputs": [],
   "metadata": {}
  }
 ],
 "metadata": {
  "orig_nbformat": 4,
  "language_info": {
   "name": "python",
   "version": "3.7.4",
   "mimetype": "text/x-python",
   "codemirror_mode": {
    "name": "ipython",
    "version": 3
   },
   "pygments_lexer": "ipython3",
   "nbconvert_exporter": "python",
   "file_extension": ".py"
  },
  "kernelspec": {
   "name": "python3",
   "display_name": "Python 3.7.4 64-bit ('base': conda)"
  },
  "interpreter": {
   "hash": "b3ba2566441a7c06988d0923437866b63cedc61552a5af99d1f4fb67d367b25f"
  }
 },
 "nbformat": 4,
 "nbformat_minor": 2
}